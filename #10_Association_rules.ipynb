{
 "cells": [
  {
   "cell_type": "markdown",
   "id": "7c9f1f21-9e2f-4107-9dde-a0caa84ab400",
   "metadata": {},
   "source": [
    "## Import necessary libraries\n",
    "\n"
   ]
  },
  {
   "cell_type": "code",
   "execution_count": 4,
   "id": "2046bc47-dbec-47da-982b-3f61d8ddecf8",
   "metadata": {},
   "outputs": [],
   "source": [
    "import pandas as pd"
   ]
  },
  {
   "cell_type": "code",
   "execution_count": 6,
   "id": "5ded2d8e-a453-4cd8-bbf6-ede813b601cd",
   "metadata": {},
   "outputs": [
    {
     "name": "stdout",
     "output_type": "stream",
     "text": [
      "Defaulting to user installation because normal site-packages is not writeable\n",
      "Collecting mlxtend\n",
      "  Downloading mlxtend-0.23.4-py3-none-any.whl.metadata (7.3 kB)\n",
      "Requirement already satisfied: scipy>=1.2.1 in c:\\programdata\\anaconda3\\lib\\site-packages (from mlxtend) (1.11.4)\n",
      "Requirement already satisfied: numpy>=1.16.2 in c:\\programdata\\anaconda3\\lib\\site-packages (from mlxtend) (1.26.4)\n",
      "Requirement already satisfied: pandas>=0.24.2 in c:\\programdata\\anaconda3\\lib\\site-packages (from mlxtend) (2.1.4)\n",
      "Collecting scikit-learn>=1.3.1 (from mlxtend)\n",
      "  Downloading scikit_learn-1.6.1-cp311-cp311-win_amd64.whl.metadata (15 kB)\n",
      "Requirement already satisfied: matplotlib>=3.0.0 in c:\\programdata\\anaconda3\\lib\\site-packages (from mlxtend) (3.8.0)\n",
      "Requirement already satisfied: joblib>=0.13.2 in c:\\programdata\\anaconda3\\lib\\site-packages (from mlxtend) (1.2.0)\n",
      "Requirement already satisfied: contourpy>=1.0.1 in c:\\programdata\\anaconda3\\lib\\site-packages (from matplotlib>=3.0.0->mlxtend) (1.2.0)\n",
      "Requirement already satisfied: cycler>=0.10 in c:\\programdata\\anaconda3\\lib\\site-packages (from matplotlib>=3.0.0->mlxtend) (0.11.0)\n",
      "Requirement already satisfied: fonttools>=4.22.0 in c:\\programdata\\anaconda3\\lib\\site-packages (from matplotlib>=3.0.0->mlxtend) (4.25.0)\n",
      "Requirement already satisfied: kiwisolver>=1.0.1 in c:\\programdata\\anaconda3\\lib\\site-packages (from matplotlib>=3.0.0->mlxtend) (1.4.4)\n",
      "Requirement already satisfied: packaging>=20.0 in c:\\programdata\\anaconda3\\lib\\site-packages (from matplotlib>=3.0.0->mlxtend) (23.1)\n",
      "Requirement already satisfied: pillow>=6.2.0 in c:\\programdata\\anaconda3\\lib\\site-packages (from matplotlib>=3.0.0->mlxtend) (10.2.0)\n",
      "Requirement already satisfied: pyparsing>=2.3.1 in c:\\programdata\\anaconda3\\lib\\site-packages (from matplotlib>=3.0.0->mlxtend) (3.0.9)\n",
      "Requirement already satisfied: python-dateutil>=2.7 in c:\\programdata\\anaconda3\\lib\\site-packages (from matplotlib>=3.0.0->mlxtend) (2.8.2)\n",
      "Requirement already satisfied: pytz>=2020.1 in c:\\programdata\\anaconda3\\lib\\site-packages (from pandas>=0.24.2->mlxtend) (2023.3.post1)\n",
      "Requirement already satisfied: tzdata>=2022.1 in c:\\programdata\\anaconda3\\lib\\site-packages (from pandas>=0.24.2->mlxtend) (2023.3)\n",
      "Collecting threadpoolctl>=3.1.0 (from scikit-learn>=1.3.1->mlxtend)\n",
      "  Using cached threadpoolctl-3.5.0-py3-none-any.whl.metadata (13 kB)\n",
      "Requirement already satisfied: six>=1.5 in c:\\programdata\\anaconda3\\lib\\site-packages (from python-dateutil>=2.7->matplotlib>=3.0.0->mlxtend) (1.16.0)\n",
      "Downloading mlxtend-0.23.4-py3-none-any.whl (1.4 MB)\n",
      "   ---------------------------------------- 0.0/1.4 MB ? eta -:--:--\n",
      "   ---------------------------------------- 0.0/1.4 MB ? eta -:--:--\n",
      "   - -------------------------------------- 0.0/1.4 MB 495.5 kB/s eta 0:00:03\n",
      "   --- ------------------------------------ 0.1/1.4 MB 939.4 kB/s eta 0:00:02\n",
      "   ------ --------------------------------- 0.2/1.4 MB 1.5 MB/s eta 0:00:01\n",
      "   ---------- ----------------------------- 0.4/1.4 MB 1.8 MB/s eta 0:00:01\n",
      "   ---------------- ----------------------- 0.6/1.4 MB 2.3 MB/s eta 0:00:01\n",
      "   ---------------- ----------------------- 0.6/1.4 MB 2.3 MB/s eta 0:00:01\n",
      "   ---------------- ----------------------- 0.6/1.4 MB 2.3 MB/s eta 0:00:01\n",
      "   ------------------ --------------------- 0.6/1.4 MB 1.8 MB/s eta 0:00:01\n",
      "   ---------------------- ----------------- 0.8/1.4 MB 1.7 MB/s eta 0:00:01\n",
      "   --------------------------- ------------ 0.9/1.4 MB 1.9 MB/s eta 0:00:01\n",
      "   -------------------------------- ------- 1.1/1.4 MB 2.1 MB/s eta 0:00:01\n",
      "   ---------------------------------- ----- 1.2/1.4 MB 2.1 MB/s eta 0:00:01\n",
      "   ------------------------------------- -- 1.3/1.4 MB 2.1 MB/s eta 0:00:01\n",
      "   ---------------------------------------- 1.4/1.4 MB 2.1 MB/s eta 0:00:00\n",
      "Downloading scikit_learn-1.6.1-cp311-cp311-win_amd64.whl (11.1 MB)\n",
      "   ---------------------------------------- 0.0/11.1 MB ? eta -:--:--\n",
      "   ---------------------------------------- 0.1/11.1 MB 3.2 MB/s eta 0:00:04\n",
      "   - -------------------------------------- 0.3/11.1 MB 4.1 MB/s eta 0:00:03\n",
      "   -- ------------------------------------- 0.6/11.1 MB 3.9 MB/s eta 0:00:03\n",
      "   -- ------------------------------------- 0.6/11.1 MB 3.6 MB/s eta 0:00:03\n",
      "   -- ------------------------------------- 0.7/11.1 MB 3.0 MB/s eta 0:00:04\n",
      "   -- ------------------------------------- 0.7/11.1 MB 3.0 MB/s eta 0:00:04\n",
      "   --- ------------------------------------ 1.0/11.1 MB 3.0 MB/s eta 0:00:04\n",
      "   --- ------------------------------------ 1.1/11.1 MB 2.8 MB/s eta 0:00:04\n",
      "   ---- ----------------------------------- 1.1/11.1 MB 2.8 MB/s eta 0:00:04\n",
      "   ---- ----------------------------------- 1.4/11.1 MB 3.0 MB/s eta 0:00:04\n",
      "   ------ --------------------------------- 1.7/11.1 MB 3.3 MB/s eta 0:00:03\n",
      "   ------ --------------------------------- 1.8/11.1 MB 3.3 MB/s eta 0:00:03\n",
      "   ------ --------------------------------- 1.9/11.1 MB 3.4 MB/s eta 0:00:03\n",
      "   ------- -------------------------------- 2.0/11.1 MB 3.2 MB/s eta 0:00:03\n",
      "   ------- -------------------------------- 2.2/11.1 MB 3.3 MB/s eta 0:00:03\n",
      "   ------- -------------------------------- 2.2/11.1 MB 3.2 MB/s eta 0:00:03\n",
      "   -------- ------------------------------- 2.3/11.1 MB 3.0 MB/s eta 0:00:03\n",
      "   -------- ------------------------------- 2.5/11.1 MB 3.0 MB/s eta 0:00:03\n",
      "   --------- ------------------------------ 2.7/11.1 MB 3.1 MB/s eta 0:00:03\n",
      "   ---------- ----------------------------- 2.8/11.1 MB 3.1 MB/s eta 0:00:03\n",
      "   ---------- ----------------------------- 3.0/11.1 MB 3.2 MB/s eta 0:00:03\n",
      "   ------------ --------------------------- 3.4/11.1 MB 3.4 MB/s eta 0:00:03\n",
      "   ------------ --------------------------- 3.5/11.1 MB 3.5 MB/s eta 0:00:03\n",
      "   ------------- -------------------------- 3.7/11.1 MB 3.4 MB/s eta 0:00:03\n",
      "   -------------- ------------------------- 3.9/11.1 MB 3.5 MB/s eta 0:00:03\n",
      "   -------------- ------------------------- 4.1/11.1 MB 3.5 MB/s eta 0:00:03\n",
      "   --------------- ------------------------ 4.3/11.1 MB 3.5 MB/s eta 0:00:02\n",
      "   ---------------- ----------------------- 4.5/11.1 MB 3.6 MB/s eta 0:00:02\n",
      "   ---------------- ----------------------- 4.7/11.1 MB 3.6 MB/s eta 0:00:02\n",
      "   ----------------- ---------------------- 5.0/11.1 MB 3.7 MB/s eta 0:00:02\n",
      "   ------------------ --------------------- 5.3/11.1 MB 3.7 MB/s eta 0:00:02\n",
      "   -------------------- ------------------- 5.6/11.1 MB 3.8 MB/s eta 0:00:02\n",
      "   --------------------- ------------------ 5.9/11.1 MB 3.9 MB/s eta 0:00:02\n",
      "   ---------------------- ----------------- 6.1/11.1 MB 4.0 MB/s eta 0:00:02\n",
      "   ----------------------- ---------------- 6.4/11.1 MB 4.0 MB/s eta 0:00:02\n",
      "   ------------------------ --------------- 6.8/11.1 MB 4.1 MB/s eta 0:00:02\n",
      "   ------------------------- -------------- 7.0/11.1 MB 4.2 MB/s eta 0:00:01\n",
      "   -------------------------- ------------- 7.3/11.1 MB 4.2 MB/s eta 0:00:01\n",
      "   --------------------------- ------------ 7.6/11.1 MB 4.3 MB/s eta 0:00:01\n",
      "   ---------------------------- ----------- 7.9/11.1 MB 4.3 MB/s eta 0:00:01\n",
      "   ----------------------------- ---------- 8.1/11.1 MB 4.4 MB/s eta 0:00:01\n",
      "   ------------------------------ --------- 8.4/11.1 MB 4.4 MB/s eta 0:00:01\n",
      "   ------------------------------ --------- 8.5/11.1 MB 4.4 MB/s eta 0:00:01\n",
      "   ------------------------------ --------- 8.6/11.1 MB 4.3 MB/s eta 0:00:01\n",
      "   ------------------------------- -------- 8.8/11.1 MB 4.3 MB/s eta 0:00:01\n",
      "   -------------------------------- ------- 9.2/11.1 MB 4.4 MB/s eta 0:00:01\n",
      "   --------------------------------- ------ 9.4/11.1 MB 4.4 MB/s eta 0:00:01\n",
      "   ---------------------------------- ----- 9.7/11.1 MB 4.5 MB/s eta 0:00:01\n",
      "   ----------------------------------- ---- 9.9/11.1 MB 4.5 MB/s eta 0:00:01\n",
      "   ------------------------------------ --- 10.2/11.1 MB 4.5 MB/s eta 0:00:01\n",
      "   ------------------------------------- -- 10.4/11.1 MB 4.6 MB/s eta 0:00:01\n",
      "   -------------------------------------- - 10.7/11.1 MB 4.6 MB/s eta 0:00:01\n",
      "   ---------------------------------------  10.9/11.1 MB 4.8 MB/s eta 0:00:01\n",
      "   ---------------------------------------  11.1/11.1 MB 4.8 MB/s eta 0:00:01\n",
      "   ---------------------------------------  11.1/11.1 MB 4.8 MB/s eta 0:00:01\n",
      "   ---------------------------------------- 11.1/11.1 MB 4.6 MB/s eta 0:00:00\n",
      "Using cached threadpoolctl-3.5.0-py3-none-any.whl (18 kB)\n",
      "Installing collected packages: threadpoolctl, scikit-learn, mlxtend\n",
      "Successfully installed mlxtend-0.23.4 scikit-learn-1.6.1 threadpoolctl-3.5.0\n"
     ]
    }
   ],
   "source": [
    "!pip install mlxtend\n"
   ]
  },
  {
   "cell_type": "code",
   "execution_count": 53,
   "id": "70bf7469-1cfe-4ff2-94f1-132ddd3a1be6",
   "metadata": {},
   "outputs": [],
   "source": [
    "from mlxtend.frequent_patterns import apriori, association_rules\n",
    "from mlxtend.preprocessing import TransactionEncoder"
   ]
  },
  {
   "cell_type": "markdown",
   "id": "a5b37594-6a4c-44e0-811a-e40d8b4b0722",
   "metadata": {},
   "source": [
    "## Load dataset"
   ]
  },
  {
   "cell_type": "code",
   "execution_count": 57,
   "id": "bc390645-2a99-41ca-925e-f5d23cb04833",
   "metadata": {},
   "outputs": [],
   "source": [
    "df = pd.read_csv(\"Online retail.csv\", encoding='latin1', header=None)\n"
   ]
  },
  {
   "cell_type": "markdown",
   "id": "b28f5619-11f2-4919-ba5b-d6ebd630a387",
   "metadata": {},
   "source": [
    "## Display basic information about the dataset"
   ]
  },
  {
   "cell_type": "markdown",
   "id": "8d6fb8bd-c78f-448e-a8f7-f780480e1f80",
   "metadata": {},
   "source": [
    " ## Check for missing values"
   ]
  },
  {
   "cell_type": "code",
   "execution_count": 60,
   "id": "4dfcce5c-5394-4e7c-b818-d1a4cb875322",
   "metadata": {},
   "outputs": [
    {
     "name": "stdout",
     "output_type": "stream",
     "text": [
      "<class 'pandas.core.frame.DataFrame'>\n",
      "RangeIndex: 7501 entries, 0 to 7500\n",
      "Data columns (total 1 columns):\n",
      " #   Column  Non-Null Count  Dtype \n",
      "---  ------  --------------  ----- \n",
      " 0   0       7501 non-null   object\n",
      "dtypes: object(1)\n",
      "memory usage: 58.7+ KB\n"
     ]
    }
   ],
   "source": [
    "df.info()"
   ]
  },
  {
   "cell_type": "markdown",
   "id": "6c8807cb-aceb-4db4-8e5c-b0ad5ff28695",
   "metadata": {},
   "source": [
    "## Check for missing values"
   ]
  },
  {
   "cell_type": "code",
   "execution_count": 63,
   "id": "3ef61cfa-3450-403e-a879-c1268e95114e",
   "metadata": {},
   "outputs": [
    {
     "name": "stdout",
     "output_type": "stream",
     "text": [
      "Missing values:\n",
      "0    0\n",
      "dtype: int64\n"
     ]
    }
   ],
   "source": [
    "print(\"Missing values:\")\n",
    "print(df.isnull().sum())\n",
    "\n"
   ]
  },
  {
   "cell_type": "markdown",
   "id": "e607d2bf-ed66-4941-b217-bfd26840826b",
   "metadata": {},
   "source": [
    "## Check the first few rows of the dataset"
   ]
  },
  {
   "cell_type": "markdown",
   "id": "bc4a348b-a79f-4dfa-b937-5c2292772412",
   "metadata": {},
   "source": [
    "## Convert InvoiceNo to string"
   ]
  },
  {
   "cell_type": "code",
   "execution_count": 66,
   "id": "d48b1d07-eb05-420b-af9d-ebee25420aac",
   "metadata": {},
   "outputs": [
    {
     "data": {
      "text/html": [
       "<div>\n",
       "<style scoped>\n",
       "    .dataframe tbody tr th:only-of-type {\n",
       "        vertical-align: middle;\n",
       "    }\n",
       "\n",
       "    .dataframe tbody tr th {\n",
       "        vertical-align: top;\n",
       "    }\n",
       "\n",
       "    .dataframe thead th {\n",
       "        text-align: right;\n",
       "    }\n",
       "</style>\n",
       "<table border=\"1\" class=\"dataframe\">\n",
       "  <thead>\n",
       "    <tr style=\"text-align: right;\">\n",
       "      <th></th>\n",
       "      <th>0</th>\n",
       "    </tr>\n",
       "  </thead>\n",
       "  <tbody>\n",
       "    <tr>\n",
       "      <th>0</th>\n",
       "      <td>shrimp,almonds,avocado,vegetables mix,green gr...</td>\n",
       "    </tr>\n",
       "    <tr>\n",
       "      <th>1</th>\n",
       "      <td>burgers,meatballs,eggs</td>\n",
       "    </tr>\n",
       "    <tr>\n",
       "      <th>2</th>\n",
       "      <td>chutney</td>\n",
       "    </tr>\n",
       "    <tr>\n",
       "      <th>3</th>\n",
       "      <td>turkey,avocado</td>\n",
       "    </tr>\n",
       "    <tr>\n",
       "      <th>4</th>\n",
       "      <td>mineral water,milk,energy bar,whole wheat rice...</td>\n",
       "    </tr>\n",
       "  </tbody>\n",
       "</table>\n",
       "</div>"
      ],
      "text/plain": [
       "                                                   0\n",
       "0  shrimp,almonds,avocado,vegetables mix,green gr...\n",
       "1                             burgers,meatballs,eggs\n",
       "2                                            chutney\n",
       "3                                     turkey,avocado\n",
       "4  mineral water,milk,energy bar,whole wheat rice..."
      ]
     },
     "execution_count": 66,
     "metadata": {},
     "output_type": "execute_result"
    }
   ],
   "source": [
    "df.head()\n"
   ]
  },
  {
   "cell_type": "markdown",
   "id": "dd640051-280a-45be-879d-4ffdbe64b428",
   "metadata": {},
   "source": [
    "## Rename the single column to 'Transactions'"
   ]
  },
  {
   "cell_type": "code",
   "execution_count": 69,
   "id": "ef5be053-3663-4704-8919-a04f63c05e1c",
   "metadata": {},
   "outputs": [],
   "source": [
    "df.columns = ['Transactions']\n"
   ]
  },
  {
   "cell_type": "markdown",
   "id": "6d75fd37-3436-42bc-af18-51fa89d5cc9b",
   "metadata": {},
   "source": [
    "## Drop any rows with missing values"
   ]
  },
  {
   "cell_type": "code",
   "execution_count": 72,
   "id": "dfd86ee4-d14d-40f5-b029-e58cf77299d0",
   "metadata": {},
   "outputs": [],
   "source": [
    "df.dropna(inplace=True)\n"
   ]
  },
  {
   "cell_type": "markdown",
   "id": "44761155-ebcd-4023-b338-b8169387a567",
   "metadata": {},
   "source": [
    "## Split items in each transaction into a list\n"
   ]
  },
  {
   "cell_type": "code",
   "execution_count": 75,
   "id": "c2c9b412-7787-4eba-be06-f63d6cabe219",
   "metadata": {},
   "outputs": [],
   "source": [
    "df['Transactions'] = df['Transactions'].apply(lambda x: x.split(','))\n"
   ]
  },
  {
   "cell_type": "markdown",
   "id": "8a5b711d-e0d1-4064-b773-9e8b2627a51a",
   "metadata": {},
   "source": [
    "## Convert transactions into a format suitable for market basket analysis"
   ]
  },
  {
   "cell_type": "code",
   "execution_count": 78,
   "id": "2d57ab23-a64f-4fae-967d-22c4e58d9e2c",
   "metadata": {},
   "outputs": [],
   "source": [
    "from mlxtend.preprocessing import TransactionEncoder\n",
    "\n",
    "te = TransactionEncoder()\n",
    "te_ary = te.fit(df['Transactions']).transform(df['Transactions'])\n",
    "basket = pd.DataFrame(te_ary, columns=te.columns_)\n"
   ]
  },
  {
   "cell_type": "code",
   "execution_count": 82,
   "id": "2f476a31-152b-4b01-b6a2-2e7d0a135574",
   "metadata": {},
   "outputs": [
    {
     "data": {
      "text/html": [
       "<div>\n",
       "<style scoped>\n",
       "    .dataframe tbody tr th:only-of-type {\n",
       "        vertical-align: middle;\n",
       "    }\n",
       "\n",
       "    .dataframe tbody tr th {\n",
       "        vertical-align: top;\n",
       "    }\n",
       "\n",
       "    .dataframe thead th {\n",
       "        text-align: right;\n",
       "    }\n",
       "</style>\n",
       "<table border=\"1\" class=\"dataframe\">\n",
       "  <thead>\n",
       "    <tr style=\"text-align: right;\">\n",
       "      <th></th>\n",
       "      <th>asparagus</th>\n",
       "      <th>almonds</th>\n",
       "      <th>antioxydant juice</th>\n",
       "      <th>asparagus</th>\n",
       "      <th>avocado</th>\n",
       "      <th>babies food</th>\n",
       "      <th>bacon</th>\n",
       "      <th>barbecue sauce</th>\n",
       "      <th>black tea</th>\n",
       "      <th>blueberries</th>\n",
       "      <th>...</th>\n",
       "      <th>turkey</th>\n",
       "      <th>vegetables mix</th>\n",
       "      <th>water spray</th>\n",
       "      <th>white wine</th>\n",
       "      <th>whole weat flour</th>\n",
       "      <th>whole wheat pasta</th>\n",
       "      <th>whole wheat rice</th>\n",
       "      <th>yams</th>\n",
       "      <th>yogurt cake</th>\n",
       "      <th>zucchini</th>\n",
       "    </tr>\n",
       "  </thead>\n",
       "  <tbody>\n",
       "    <tr>\n",
       "      <th>0</th>\n",
       "      <td>False</td>\n",
       "      <td>True</td>\n",
       "      <td>True</td>\n",
       "      <td>False</td>\n",
       "      <td>True</td>\n",
       "      <td>False</td>\n",
       "      <td>False</td>\n",
       "      <td>False</td>\n",
       "      <td>False</td>\n",
       "      <td>False</td>\n",
       "      <td>...</td>\n",
       "      <td>False</td>\n",
       "      <td>True</td>\n",
       "      <td>False</td>\n",
       "      <td>False</td>\n",
       "      <td>True</td>\n",
       "      <td>False</td>\n",
       "      <td>False</td>\n",
       "      <td>True</td>\n",
       "      <td>False</td>\n",
       "      <td>False</td>\n",
       "    </tr>\n",
       "    <tr>\n",
       "      <th>1</th>\n",
       "      <td>False</td>\n",
       "      <td>False</td>\n",
       "      <td>False</td>\n",
       "      <td>False</td>\n",
       "      <td>False</td>\n",
       "      <td>False</td>\n",
       "      <td>False</td>\n",
       "      <td>False</td>\n",
       "      <td>False</td>\n",
       "      <td>False</td>\n",
       "      <td>...</td>\n",
       "      <td>False</td>\n",
       "      <td>False</td>\n",
       "      <td>False</td>\n",
       "      <td>False</td>\n",
       "      <td>False</td>\n",
       "      <td>False</td>\n",
       "      <td>False</td>\n",
       "      <td>False</td>\n",
       "      <td>False</td>\n",
       "      <td>False</td>\n",
       "    </tr>\n",
       "    <tr>\n",
       "      <th>2</th>\n",
       "      <td>False</td>\n",
       "      <td>False</td>\n",
       "      <td>False</td>\n",
       "      <td>False</td>\n",
       "      <td>False</td>\n",
       "      <td>False</td>\n",
       "      <td>False</td>\n",
       "      <td>False</td>\n",
       "      <td>False</td>\n",
       "      <td>False</td>\n",
       "      <td>...</td>\n",
       "      <td>False</td>\n",
       "      <td>False</td>\n",
       "      <td>False</td>\n",
       "      <td>False</td>\n",
       "      <td>False</td>\n",
       "      <td>False</td>\n",
       "      <td>False</td>\n",
       "      <td>False</td>\n",
       "      <td>False</td>\n",
       "      <td>False</td>\n",
       "    </tr>\n",
       "    <tr>\n",
       "      <th>3</th>\n",
       "      <td>False</td>\n",
       "      <td>False</td>\n",
       "      <td>False</td>\n",
       "      <td>False</td>\n",
       "      <td>True</td>\n",
       "      <td>False</td>\n",
       "      <td>False</td>\n",
       "      <td>False</td>\n",
       "      <td>False</td>\n",
       "      <td>False</td>\n",
       "      <td>...</td>\n",
       "      <td>True</td>\n",
       "      <td>False</td>\n",
       "      <td>False</td>\n",
       "      <td>False</td>\n",
       "      <td>False</td>\n",
       "      <td>False</td>\n",
       "      <td>False</td>\n",
       "      <td>False</td>\n",
       "      <td>False</td>\n",
       "      <td>False</td>\n",
       "    </tr>\n",
       "    <tr>\n",
       "      <th>4</th>\n",
       "      <td>False</td>\n",
       "      <td>False</td>\n",
       "      <td>False</td>\n",
       "      <td>False</td>\n",
       "      <td>False</td>\n",
       "      <td>False</td>\n",
       "      <td>False</td>\n",
       "      <td>False</td>\n",
       "      <td>False</td>\n",
       "      <td>False</td>\n",
       "      <td>...</td>\n",
       "      <td>False</td>\n",
       "      <td>False</td>\n",
       "      <td>False</td>\n",
       "      <td>False</td>\n",
       "      <td>False</td>\n",
       "      <td>False</td>\n",
       "      <td>True</td>\n",
       "      <td>False</td>\n",
       "      <td>False</td>\n",
       "      <td>False</td>\n",
       "    </tr>\n",
       "  </tbody>\n",
       "</table>\n",
       "<p>5 rows × 120 columns</p>\n",
       "</div>"
      ],
      "text/plain": [
       "    asparagus  almonds  antioxydant juice  asparagus  avocado  babies food  \\\n",
       "0       False     True               True      False     True        False   \n",
       "1       False    False              False      False    False        False   \n",
       "2       False    False              False      False    False        False   \n",
       "3       False    False              False      False     True        False   \n",
       "4       False    False              False      False    False        False   \n",
       "\n",
       "   bacon  barbecue sauce  black tea  blueberries  ...  turkey  vegetables mix  \\\n",
       "0  False           False      False        False  ...   False            True   \n",
       "1  False           False      False        False  ...   False           False   \n",
       "2  False           False      False        False  ...   False           False   \n",
       "3  False           False      False        False  ...    True           False   \n",
       "4  False           False      False        False  ...   False           False   \n",
       "\n",
       "   water spray  white wine  whole weat flour  whole wheat pasta  \\\n",
       "0        False       False              True              False   \n",
       "1        False       False             False              False   \n",
       "2        False       False             False              False   \n",
       "3        False       False             False              False   \n",
       "4        False       False             False              False   \n",
       "\n",
       "   whole wheat rice   yams  yogurt cake  zucchini  \n",
       "0             False   True        False     False  \n",
       "1             False  False        False     False  \n",
       "2             False  False        False     False  \n",
       "3             False  False        False     False  \n",
       "4              True  False        False     False  \n",
       "\n",
       "[5 rows x 120 columns]"
      ]
     },
     "execution_count": 82,
     "metadata": {},
     "output_type": "execute_result"
    }
   ],
   "source": [
    "basket.head()"
   ]
  },
  {
   "cell_type": "markdown",
   "id": "497d83c9-429b-436e-b88a-436e8fd4b4c0",
   "metadata": {},
   "source": [
    "## Apply Apriori algorithm to find frequent item sets"
   ]
  },
  {
   "cell_type": "code",
   "execution_count": 85,
   "id": "0965edaf-5aa0-4a49-8177-4b78a21a1297",
   "metadata": {},
   "outputs": [],
   "source": [
    "frequent_itemsets = apriori(basket, min_support=0.05, use_colnames=True)\n"
   ]
  },
  {
   "cell_type": "markdown",
   "id": "d0f80748-5748-44c1-a40b-bdc7cba81c97",
   "metadata": {},
   "source": [
    "## Generate association rules"
   ]
  },
  {
   "cell_type": "code",
   "execution_count": 88,
   "id": "3d89e3db-1d8e-4e54-be83-f23aaa1d602e",
   "metadata": {},
   "outputs": [],
   "source": [
    "rules = association_rules(frequent_itemsets, metric=\"lift\", min_threshold=1.0)\n"
   ]
  },
  {
   "cell_type": "markdown",
   "id": "b7c0a9b0-82d2-4dd4-a9a9-ecd586ebe7d6",
   "metadata": {},
   "source": [
    "## Display association rules"
   ]
  },
  {
   "cell_type": "code",
   "execution_count": 91,
   "id": "34930141-bbb2-42c1-92bd-14ed06f395ff",
   "metadata": {},
   "outputs": [
    {
     "data": {
      "text/html": [
       "<div>\n",
       "<style scoped>\n",
       "    .dataframe tbody tr th:only-of-type {\n",
       "        vertical-align: middle;\n",
       "    }\n",
       "\n",
       "    .dataframe tbody tr th {\n",
       "        vertical-align: top;\n",
       "    }\n",
       "\n",
       "    .dataframe thead th {\n",
       "        text-align: right;\n",
       "    }\n",
       "</style>\n",
       "<table border=\"1\" class=\"dataframe\">\n",
       "  <thead>\n",
       "    <tr style=\"text-align: right;\">\n",
       "      <th></th>\n",
       "      <th>antecedents</th>\n",
       "      <th>consequents</th>\n",
       "      <th>antecedent support</th>\n",
       "      <th>consequent support</th>\n",
       "      <th>support</th>\n",
       "      <th>confidence</th>\n",
       "      <th>lift</th>\n",
       "      <th>representativity</th>\n",
       "      <th>leverage</th>\n",
       "      <th>conviction</th>\n",
       "      <th>zhangs_metric</th>\n",
       "      <th>jaccard</th>\n",
       "      <th>certainty</th>\n",
       "      <th>kulczynski</th>\n",
       "    </tr>\n",
       "  </thead>\n",
       "  <tbody>\n",
       "    <tr>\n",
       "      <th>0</th>\n",
       "      <td>(chocolate)</td>\n",
       "      <td>(mineral water)</td>\n",
       "      <td>0.163845</td>\n",
       "      <td>0.238368</td>\n",
       "      <td>0.052660</td>\n",
       "      <td>0.321400</td>\n",
       "      <td>1.348332</td>\n",
       "      <td>1.0</td>\n",
       "      <td>0.013604</td>\n",
       "      <td>1.122357</td>\n",
       "      <td>0.308965</td>\n",
       "      <td>0.150648</td>\n",
       "      <td>0.109018</td>\n",
       "      <td>0.271158</td>\n",
       "    </tr>\n",
       "    <tr>\n",
       "      <th>1</th>\n",
       "      <td>(mineral water)</td>\n",
       "      <td>(chocolate)</td>\n",
       "      <td>0.238368</td>\n",
       "      <td>0.163845</td>\n",
       "      <td>0.052660</td>\n",
       "      <td>0.220917</td>\n",
       "      <td>1.348332</td>\n",
       "      <td>1.0</td>\n",
       "      <td>0.013604</td>\n",
       "      <td>1.073256</td>\n",
       "      <td>0.339197</td>\n",
       "      <td>0.150648</td>\n",
       "      <td>0.068256</td>\n",
       "      <td>0.271158</td>\n",
       "    </tr>\n",
       "    <tr>\n",
       "      <th>2</th>\n",
       "      <td>(eggs)</td>\n",
       "      <td>(mineral water)</td>\n",
       "      <td>0.179709</td>\n",
       "      <td>0.238368</td>\n",
       "      <td>0.050927</td>\n",
       "      <td>0.283383</td>\n",
       "      <td>1.188845</td>\n",
       "      <td>1.0</td>\n",
       "      <td>0.008090</td>\n",
       "      <td>1.062815</td>\n",
       "      <td>0.193648</td>\n",
       "      <td>0.138707</td>\n",
       "      <td>0.059103</td>\n",
       "      <td>0.248515</td>\n",
       "    </tr>\n",
       "    <tr>\n",
       "      <th>3</th>\n",
       "      <td>(mineral water)</td>\n",
       "      <td>(eggs)</td>\n",
       "      <td>0.238368</td>\n",
       "      <td>0.179709</td>\n",
       "      <td>0.050927</td>\n",
       "      <td>0.213647</td>\n",
       "      <td>1.188845</td>\n",
       "      <td>1.0</td>\n",
       "      <td>0.008090</td>\n",
       "      <td>1.043158</td>\n",
       "      <td>0.208562</td>\n",
       "      <td>0.138707</td>\n",
       "      <td>0.041372</td>\n",
       "      <td>0.248515</td>\n",
       "    </tr>\n",
       "    <tr>\n",
       "      <th>4</th>\n",
       "      <td>(spaghetti)</td>\n",
       "      <td>(mineral water)</td>\n",
       "      <td>0.174110</td>\n",
       "      <td>0.238368</td>\n",
       "      <td>0.059725</td>\n",
       "      <td>0.343032</td>\n",
       "      <td>1.439085</td>\n",
       "      <td>1.0</td>\n",
       "      <td>0.018223</td>\n",
       "      <td>1.159314</td>\n",
       "      <td>0.369437</td>\n",
       "      <td>0.169312</td>\n",
       "      <td>0.137421</td>\n",
       "      <td>0.296796</td>\n",
       "    </tr>\n",
       "  </tbody>\n",
       "</table>\n",
       "</div>"
      ],
      "text/plain": [
       "       antecedents      consequents  antecedent support  consequent support  \\\n",
       "0      (chocolate)  (mineral water)            0.163845            0.238368   \n",
       "1  (mineral water)      (chocolate)            0.238368            0.163845   \n",
       "2           (eggs)  (mineral water)            0.179709            0.238368   \n",
       "3  (mineral water)           (eggs)            0.238368            0.179709   \n",
       "4      (spaghetti)  (mineral water)            0.174110            0.238368   \n",
       "\n",
       "    support  confidence      lift  representativity  leverage  conviction  \\\n",
       "0  0.052660    0.321400  1.348332               1.0  0.013604    1.122357   \n",
       "1  0.052660    0.220917  1.348332               1.0  0.013604    1.073256   \n",
       "2  0.050927    0.283383  1.188845               1.0  0.008090    1.062815   \n",
       "3  0.050927    0.213647  1.188845               1.0  0.008090    1.043158   \n",
       "4  0.059725    0.343032  1.439085               1.0  0.018223    1.159314   \n",
       "\n",
       "   zhangs_metric   jaccard  certainty  kulczynski  \n",
       "0       0.308965  0.150648   0.109018    0.271158  \n",
       "1       0.339197  0.150648   0.068256    0.271158  \n",
       "2       0.193648  0.138707   0.059103    0.248515  \n",
       "3       0.208562  0.138707   0.041372    0.248515  \n",
       "4       0.369437  0.169312   0.137421    0.296796  "
      ]
     },
     "execution_count": 91,
     "metadata": {},
     "output_type": "execute_result"
    }
   ],
   "source": [
    "rules.head()\n"
   ]
  },
  {
   "cell_type": "markdown",
   "id": "fd26a6a0-4d8d-4a94-ba02-69fc97622192",
   "metadata": {},
   "source": [
    "## Explanation of Columns"
   ]
  },
  {
   "cell_type": "code",
   "execution_count": 94,
   "id": "53493604-f703-405b-a101-efab3999279a",
   "metadata": {},
   "outputs": [],
   "source": [
    "# antecedents: Items on the left-hand side of the rule.\n",
    "# consequents: Items on the right-hand side of the rule.\n",
    "# support: The proportion of transactions that contain both antecedents and consequents.\n",
    "# confidence: How often the rule has been true (transactions with antecedents also had consequents).\n",
    "# lift: Strength of the rule (greater than 1 indicates a strong association).\n",
    "# leverage & conviction: Additional metrics that indicate the strength and reliability of the rule.\n"
   ]
  },
  {
   "cell_type": "code",
   "execution_count": 2,
   "id": "0d4a1579-69ae-46a7-8676-eeabab0283fd",
   "metadata": {},
   "outputs": [
    {
     "name": "stdout",
     "output_type": "stream",
     "text": [
      "Lift:\n",
      "- Lift is a metric used in Association Rule Mining to measure how much more likely two items are to be bought together than expected by chance.\n",
      "- Formula: Lift = (Support of A and B) / (Support of A * Support of B).\n",
      "- A lift value > 1 indicates a strong positive association, while < 1 indicates a negative correlation.\n",
      "\n",
      "Importance of Lift:\n",
      "- Helps identify truly meaningful associations beyond mere co-occurrence.\n",
      "- Used in market basket analysis, recommendation systems, and fraud detection.\n",
      "- A high lift value suggests strong predictive power for recommendation models.\n"
     ]
    }
   ],
   "source": [
    "# Q1: What is lift and why is it important in Association rules?\n",
    "\n",
    "print(\"Lift:\\n\"\n",
    "      \"- Lift is a metric used in Association Rule Mining to measure how much more likely two items are to be bought together than expected by chance.\\n\"\n",
    "      \"- Formula: Lift = (Support of A and B) / (Support of A * Support of B).\\n\"\n",
    "      \"- A lift value > 1 indicates a strong positive association, while < 1 indicates a negative correlation.\\n\\n\"\n",
    "      \"Importance of Lift:\\n\"\n",
    "      \"- Helps identify truly meaningful associations beyond mere co-occurrence.\\n\"\n",
    "      \"- Used in market basket analysis, recommendation systems, and fraud detection.\\n\"\n",
    "      \"- A high lift value suggests strong predictive power for recommendation models.\")\n"
   ]
  },
  {
   "cell_type": "code",
   "execution_count": 4,
   "id": "de410041-e4ae-435b-9214-f9b4c768cfc0",
   "metadata": {},
   "outputs": [
    {
     "name": "stdout",
     "output_type": "stream",
     "text": [
      "Support:\n",
      "- Support measures how frequently an itemset appears in the dataset.\n",
      "- Formula: Support(A) = (Transactions containing A) / (Total transactions).\n",
      "\n",
      "Confidence:\n",
      "- Confidence measures the likelihood that item B is purchased when item A is purchased.\n",
      "- Formula: Confidence(A → B) = Support(A and B) / Support(A).\n",
      "\n",
      "These metrics are key in Association Rule Mining to determine the strength and reliability of discovered rules.\n"
     ]
    }
   ],
   "source": [
    "# Q2: What is support and confidence? How do you calculate them?\n",
    "\n",
    "print(\"Support:\\n\"\n",
    "      \"- Support measures how frequently an itemset appears in the dataset.\\n\"\n",
    "      \"- Formula: Support(A) = (Transactions containing A) / (Total transactions).\\n\\n\"\n",
    "      \"Confidence:\\n\"\n",
    "      \"- Confidence measures the likelihood that item B is purchased when item A is purchased.\\n\"\n",
    "      \"- Formula: Confidence(A → B) = Support(A and B) / Support(A).\\n\\n\"\n",
    "      \"These metrics are key in Association Rule Mining to determine the strength and reliability of discovered rules.\")\n"
   ]
  },
  {
   "cell_type": "code",
   "execution_count": null,
   "id": "363bdd11-4ee9-4b24-9065-cae46cb1b9e1",
   "metadata": {},
   "outputs": [],
   "source": []
  }
 ],
 "metadata": {
  "kernelspec": {
   "display_name": "Python 3 (ipykernel)",
   "language": "python",
   "name": "python3"
  },
  "language_info": {
   "codemirror_mode": {
    "name": "ipython",
    "version": 3
   },
   "file_extension": ".py",
   "mimetype": "text/x-python",
   "name": "python",
   "nbconvert_exporter": "python",
   "pygments_lexer": "ipython3",
   "version": "3.11.7"
  }
 },
 "nbformat": 4,
 "nbformat_minor": 5
}

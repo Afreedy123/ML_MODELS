{
 "cells": [
  {
   "cell_type": "markdown",
   "id": "816c2d47-183a-4ce0-93b2-f3608751bced",
   "metadata": {},
   "source": [
    "## Load the necessary libraries"
   ]
  },
  {
   "cell_type": "code",
   "execution_count": 2,
   "id": "c3665c34-1186-48ac-8a29-662653819992",
   "metadata": {},
   "outputs": [],
   "source": [
    "import pandas as pd\n",
    "import numpy as np\n",
    "import matplotlib.pyplot as plt\n",
    "import seaborn as sns\n",
    "from sklearn.feature_extraction.text import TfidfVectorizer\n",
    "from sklearn.metrics.pairwise import cosine_similarity\n",
    "from sklearn.model_selection import train_test_split\n",
    "from sklearn.preprocessing import MinMaxScaler\n",
    "from sklearn.metrics import precision_score, recall_score, f1_score\n"
   ]
  },
  {
   "cell_type": "markdown",
   "id": "ec587c85-60b3-484d-8fd0-0503203652c8",
   "metadata": {},
   "source": [
    "## Load the dataset"
   ]
  },
  {
   "cell_type": "code",
   "execution_count": 5,
   "id": "45e48017-0857-4c99-91f4-78a16b5a0503",
   "metadata": {},
   "outputs": [
    {
     "name": "stdout",
     "output_type": "stream",
     "text": [
      "<class 'pandas.core.frame.DataFrame'>\n",
      "RangeIndex: 12294 entries, 0 to 12293\n",
      "Data columns (total 7 columns):\n",
      " #   Column    Non-Null Count  Dtype  \n",
      "---  ------    --------------  -----  \n",
      " 0   anime_id  12294 non-null  int64  \n",
      " 1   name      12294 non-null  object \n",
      " 2   genre     12232 non-null  object \n",
      " 3   type      12269 non-null  object \n",
      " 4   episodes  12294 non-null  object \n",
      " 5   rating    12064 non-null  float64\n",
      " 6   members   12294 non-null  int64  \n",
      "dtypes: float64(1), int64(2), object(4)\n",
      "memory usage: 672.5+ KB\n"
     ]
    },
    {
     "data": {
      "text/plain": [
       "None"
      ]
     },
     "metadata": {},
     "output_type": "display_data"
    },
    {
     "data": {
      "text/html": [
       "<div>\n",
       "<style scoped>\n",
       "    .dataframe tbody tr th:only-of-type {\n",
       "        vertical-align: middle;\n",
       "    }\n",
       "\n",
       "    .dataframe tbody tr th {\n",
       "        vertical-align: top;\n",
       "    }\n",
       "\n",
       "    .dataframe thead th {\n",
       "        text-align: right;\n",
       "    }\n",
       "</style>\n",
       "<table border=\"1\" class=\"dataframe\">\n",
       "  <thead>\n",
       "    <tr style=\"text-align: right;\">\n",
       "      <th></th>\n",
       "      <th>anime_id</th>\n",
       "      <th>name</th>\n",
       "      <th>genre</th>\n",
       "      <th>type</th>\n",
       "      <th>episodes</th>\n",
       "      <th>rating</th>\n",
       "      <th>members</th>\n",
       "    </tr>\n",
       "  </thead>\n",
       "  <tbody>\n",
       "    <tr>\n",
       "      <th>0</th>\n",
       "      <td>32281</td>\n",
       "      <td>Kimi no Na wa.</td>\n",
       "      <td>Drama, Romance, School, Supernatural</td>\n",
       "      <td>Movie</td>\n",
       "      <td>1</td>\n",
       "      <td>9.37</td>\n",
       "      <td>200630</td>\n",
       "    </tr>\n",
       "    <tr>\n",
       "      <th>1</th>\n",
       "      <td>5114</td>\n",
       "      <td>Fullmetal Alchemist: Brotherhood</td>\n",
       "      <td>Action, Adventure, Drama, Fantasy, Magic, Mili...</td>\n",
       "      <td>TV</td>\n",
       "      <td>64</td>\n",
       "      <td>9.26</td>\n",
       "      <td>793665</td>\n",
       "    </tr>\n",
       "    <tr>\n",
       "      <th>2</th>\n",
       "      <td>28977</td>\n",
       "      <td>Gintama°</td>\n",
       "      <td>Action, Comedy, Historical, Parody, Samurai, S...</td>\n",
       "      <td>TV</td>\n",
       "      <td>51</td>\n",
       "      <td>9.25</td>\n",
       "      <td>114262</td>\n",
       "    </tr>\n",
       "    <tr>\n",
       "      <th>3</th>\n",
       "      <td>9253</td>\n",
       "      <td>Steins;Gate</td>\n",
       "      <td>Sci-Fi, Thriller</td>\n",
       "      <td>TV</td>\n",
       "      <td>24</td>\n",
       "      <td>9.17</td>\n",
       "      <td>673572</td>\n",
       "    </tr>\n",
       "    <tr>\n",
       "      <th>4</th>\n",
       "      <td>9969</td>\n",
       "      <td>Gintama&amp;#039;</td>\n",
       "      <td>Action, Comedy, Historical, Parody, Samurai, S...</td>\n",
       "      <td>TV</td>\n",
       "      <td>51</td>\n",
       "      <td>9.16</td>\n",
       "      <td>151266</td>\n",
       "    </tr>\n",
       "  </tbody>\n",
       "</table>\n",
       "</div>"
      ],
      "text/plain": [
       "   anime_id                              name  \\\n",
       "0     32281                    Kimi no Na wa.   \n",
       "1      5114  Fullmetal Alchemist: Brotherhood   \n",
       "2     28977                          Gintama°   \n",
       "3      9253                       Steins;Gate   \n",
       "4      9969                     Gintama&#039;   \n",
       "\n",
       "                                               genre   type episodes  rating  \\\n",
       "0               Drama, Romance, School, Supernatural  Movie        1    9.37   \n",
       "1  Action, Adventure, Drama, Fantasy, Magic, Mili...     TV       64    9.26   \n",
       "2  Action, Comedy, Historical, Parody, Samurai, S...     TV       51    9.25   \n",
       "3                                   Sci-Fi, Thriller     TV       24    9.17   \n",
       "4  Action, Comedy, Historical, Parody, Samurai, S...     TV       51    9.16   \n",
       "\n",
       "   members  \n",
       "0   200630  \n",
       "1   793665  \n",
       "2   114262  \n",
       "3   673572  \n",
       "4   151266  "
      ]
     },
     "metadata": {},
     "output_type": "display_data"
    }
   ],
   "source": [
    "df = pd.read_csv(\"./anime.csv\")\n",
    "\n",
    "# Display basic information about the dataset\n",
    "display(df.info())\n",
    "display(df.head())\n"
   ]
  },
  {
   "cell_type": "markdown",
   "id": "c3d28c91-8521-4fc5-bdd7-630cd35acfad",
   "metadata": {},
   "source": [
    "## Handle missing values"
   ]
  },
  {
   "cell_type": "code",
   "execution_count": 10,
   "id": "a20b53db-396d-4959-8b7f-8b9d07fa2555",
   "metadata": {},
   "outputs": [
    {
     "data": {
      "text/plain": [
       "anime_id    0\n",
       "name        0\n",
       "genre       0\n",
       "type        0\n",
       "episodes    0\n",
       "rating      0\n",
       "members     0\n",
       "dtype: int64"
      ]
     },
     "metadata": {},
     "output_type": "display_data"
    }
   ],
   "source": [
    "# Fill missing values with 'Unknown'\n",
    "df.fillna(\"Unknown\", inplace=True)\n",
    "\n",
    "# Check for any remaining missing values\n",
    "display(df.isnull().sum())\n",
    "import warnings\n",
    "warnings.filterwarnings(\"ignore\")\n"
   ]
  },
  {
   "cell_type": "markdown",
   "id": "60570706-375c-4f46-b308-773d7c58a4f4",
   "metadata": {},
   "source": [
    "## Explore the dataset"
   ]
  },
  {
   "cell_type": "code",
   "execution_count": 13,
   "id": "c00f8a48-bff3-4ead-9aaf-c2bba89cedbc",
   "metadata": {},
   "outputs": [
    {
     "name": "stdout",
     "output_type": "stream",
     "text": [
      "Number of unique animes: 12292\n"
     ]
    },
    {
     "data": {
      "text/html": [
       "<div>\n",
       "<style scoped>\n",
       "    .dataframe tbody tr th:only-of-type {\n",
       "        vertical-align: middle;\n",
       "    }\n",
       "\n",
       "    .dataframe tbody tr th {\n",
       "        vertical-align: top;\n",
       "    }\n",
       "\n",
       "    .dataframe thead th {\n",
       "        text-align: right;\n",
       "    }\n",
       "</style>\n",
       "<table border=\"1\" class=\"dataframe\">\n",
       "  <thead>\n",
       "    <tr style=\"text-align: right;\">\n",
       "      <th></th>\n",
       "      <th>anime_id</th>\n",
       "      <th>members</th>\n",
       "    </tr>\n",
       "  </thead>\n",
       "  <tbody>\n",
       "    <tr>\n",
       "      <th>count</th>\n",
       "      <td>12294.000000</td>\n",
       "      <td>1.229400e+04</td>\n",
       "    </tr>\n",
       "    <tr>\n",
       "      <th>mean</th>\n",
       "      <td>14058.221653</td>\n",
       "      <td>1.807134e+04</td>\n",
       "    </tr>\n",
       "    <tr>\n",
       "      <th>std</th>\n",
       "      <td>11455.294701</td>\n",
       "      <td>5.482068e+04</td>\n",
       "    </tr>\n",
       "    <tr>\n",
       "      <th>min</th>\n",
       "      <td>1.000000</td>\n",
       "      <td>5.000000e+00</td>\n",
       "    </tr>\n",
       "    <tr>\n",
       "      <th>25%</th>\n",
       "      <td>3484.250000</td>\n",
       "      <td>2.250000e+02</td>\n",
       "    </tr>\n",
       "    <tr>\n",
       "      <th>50%</th>\n",
       "      <td>10260.500000</td>\n",
       "      <td>1.550000e+03</td>\n",
       "    </tr>\n",
       "    <tr>\n",
       "      <th>75%</th>\n",
       "      <td>24794.500000</td>\n",
       "      <td>9.437000e+03</td>\n",
       "    </tr>\n",
       "    <tr>\n",
       "      <th>max</th>\n",
       "      <td>34527.000000</td>\n",
       "      <td>1.013917e+06</td>\n",
       "    </tr>\n",
       "  </tbody>\n",
       "</table>\n",
       "</div>"
      ],
      "text/plain": [
       "           anime_id       members\n",
       "count  12294.000000  1.229400e+04\n",
       "mean   14058.221653  1.807134e+04\n",
       "std    11455.294701  5.482068e+04\n",
       "min        1.000000  5.000000e+00\n",
       "25%     3484.250000  2.250000e+02\n",
       "50%    10260.500000  1.550000e+03\n",
       "75%    24794.500000  9.437000e+03\n",
       "max    34527.000000  1.013917e+06"
      ]
     },
     "metadata": {},
     "output_type": "display_data"
    }
   ],
   "source": [
    "# Display number of unique animes\n",
    "print(\"Number of unique animes:\", df['name'].nunique())\n",
    "\n",
    "# Display summary statistics\n",
    "display(df.describe())\n"
   ]
  },
  {
   "cell_type": "markdown",
   "id": "1c3e856b-8260-4c09-9c71-8f383a091c22",
   "metadata": {},
   "source": [
    "## Normalize numerical features"
   ]
  },
  {
   "cell_type": "code",
   "execution_count": 18,
   "id": "c060ef1e-6b8f-48f0-afb4-7db27bfd07fc",
   "metadata": {},
   "outputs": [],
   "source": [
    "# Convert 'episodes' and 'rating' to numeric, replacing non-numeric values with NaN\n",
    "df['episodes'] = pd.to_numeric(df['episodes'], errors='coerce')\n",
    "df['rating'] = pd.to_numeric(df['rating'], errors='coerce')\n",
    "\n",
    "# Fill NaN values with the median to ensure proper scaling\n",
    "df['episodes'].fillna(df['episodes'].median(), inplace=True)\n",
    "df['rating'].fillna(df['rating'].median(), inplace=True)\n",
    "\n",
    "# Normalize numerical features\n",
    "scaler = MinMaxScaler()\n",
    "df[['episodes', 'rating']] = scaler.fit_transform(df[['episodes', 'rating']])\n",
    "\n"
   ]
  },
  {
   "cell_type": "markdown",
   "id": "58a913f9-7bdd-4100-aa04-b024d44a8b61",
   "metadata": {},
   "source": [
    "## Feature Extraction: Convert categorical data into numerical form"
   ]
  },
  {
   "cell_type": "code",
   "execution_count": 21,
   "id": "13566ba6-95d8-4406-be4a-2fcbe8edc8c5",
   "metadata": {},
   "outputs": [],
   "source": [
    "# Convert 'genre' column into numerical features using TF-IDF Vectorizer\n",
    "vectorizer = TfidfVectorizer(stop_words='english')\n",
    "X = vectorizer.fit_transform(df['genre'].astype(str))\n"
   ]
  },
  {
   "cell_type": "markdown",
   "id": "a1997b3f-141e-421a-932b-82a121231422",
   "metadata": {},
   "source": [
    "## Compute cosine similarity"
   ]
  },
  {
   "cell_type": "code",
   "execution_count": 24,
   "id": "ee88b5de-84dd-4f60-912a-28a7795b3130",
   "metadata": {},
   "outputs": [],
   "source": [
    "# Compute cosine similarity between anime based on genre\n",
    "cosine_sim = cosine_similarity(X, X)\n"
   ]
  },
  {
   "cell_type": "markdown",
   "id": "16fb9da3-3d79-425d-9923-99caf6a3f364",
   "metadata": {},
   "source": [
    "## Define the recommendation function"
   ]
  },
  {
   "cell_type": "code",
   "execution_count": 27,
   "id": "ae9551e9-8984-46d7-b07f-8a7a20c3140d",
   "metadata": {},
   "outputs": [],
   "source": [
    "def recommend_anime(title, cosine_sim=cosine_sim, df=df, threshold=0.5):\n",
    "    \"\"\"\n",
    "    Recommends similar animes based on the given title using cosine similarity.\n",
    "\n",
    "    Parameters:\n",
    "    title (str): Name of the anime to find similar animes for.\n",
    "    cosine_sim (ndarray): Cosine similarity matrix.\n",
    "    df (DataFrame): The anime dataset.\n",
    "    threshold (float): Minimum similarity score for recommendation.\n",
    "\n",
    "    Returns:\n",
    "    DataFrame: List of recommended animes with their genres.\n",
    "    \"\"\"\n",
    "    idx = df.index[df['name'] == title].tolist()\n",
    "    if not idx:\n",
    "        return \"Anime not found.\"\n",
    "    \n",
    "    idx = idx[0]\n",
    "    sim_scores = list(enumerate(cosine_sim[idx]))\n",
    "    sim_scores = [score for score in sim_scores if score[1] > threshold]  # Apply similarity threshold\n",
    "    sim_scores = sorted(sim_scores, key=lambda x: x[1], reverse=True)\n",
    "    \n",
    "    anime_indices = [i[0] for i in sim_scores[1:11]]  # Get top 10 similar animes\n",
    "    return df.iloc[anime_indices][['name', 'genre']]\n"
   ]
  },
  {
   "cell_type": "markdown",
   "id": "102c5b16-8beb-442a-9f81-62df38e8d1b7",
   "metadata": {},
   "source": [
    "## Example Recommendation"
   ]
  },
  {
   "cell_type": "code",
   "execution_count": 30,
   "id": "589e894f-8c4a-4b2e-8f78-11266500bf0e",
   "metadata": {},
   "outputs": [
    {
     "name": "stdout",
     "output_type": "stream",
     "text": [
      "Recommended animes for 'Naruto':\n"
     ]
    },
    {
     "data": {
      "text/html": [
       "<div>\n",
       "<style scoped>\n",
       "    .dataframe tbody tr th:only-of-type {\n",
       "        vertical-align: middle;\n",
       "    }\n",
       "\n",
       "    .dataframe tbody tr th {\n",
       "        vertical-align: top;\n",
       "    }\n",
       "\n",
       "    .dataframe thead th {\n",
       "        text-align: right;\n",
       "    }\n",
       "</style>\n",
       "<table border=\"1\" class=\"dataframe\">\n",
       "  <thead>\n",
       "    <tr style=\"text-align: right;\">\n",
       "      <th></th>\n",
       "      <th>name</th>\n",
       "      <th>genre</th>\n",
       "    </tr>\n",
       "  </thead>\n",
       "  <tbody>\n",
       "    <tr>\n",
       "      <th>615</th>\n",
       "      <td>Naruto: Shippuuden</td>\n",
       "      <td>Action, Comedy, Martial Arts, Shounen, Super P...</td>\n",
       "    </tr>\n",
       "    <tr>\n",
       "      <th>841</th>\n",
       "      <td>Naruto</td>\n",
       "      <td>Action, Comedy, Martial Arts, Shounen, Super P...</td>\n",
       "    </tr>\n",
       "    <tr>\n",
       "      <th>1103</th>\n",
       "      <td>Boruto: Naruto the Movie - Naruto ga Hokage ni...</td>\n",
       "      <td>Action, Comedy, Martial Arts, Shounen, Super P...</td>\n",
       "    </tr>\n",
       "    <tr>\n",
       "      <th>1343</th>\n",
       "      <td>Naruto x UT</td>\n",
       "      <td>Action, Comedy, Martial Arts, Shounen, Super P...</td>\n",
       "    </tr>\n",
       "    <tr>\n",
       "      <th>1472</th>\n",
       "      <td>Naruto: Shippuuden Movie 4 - The Lost Tower</td>\n",
       "      <td>Action, Comedy, Martial Arts, Shounen, Super P...</td>\n",
       "    </tr>\n",
       "    <tr>\n",
       "      <th>1573</th>\n",
       "      <td>Naruto: Shippuuden Movie 3 - Hi no Ishi wo Tsu...</td>\n",
       "      <td>Action, Comedy, Martial Arts, Shounen, Super P...</td>\n",
       "    </tr>\n",
       "    <tr>\n",
       "      <th>2458</th>\n",
       "      <td>Naruto Shippuuden: Sunny Side Battle</td>\n",
       "      <td>Action, Comedy, Martial Arts, Shounen, Super P...</td>\n",
       "    </tr>\n",
       "    <tr>\n",
       "      <th>2997</th>\n",
       "      <td>Naruto Soyokazeden Movie: Naruto to Mashin to ...</td>\n",
       "      <td>Action, Comedy, Martial Arts, Shounen, Super P...</td>\n",
       "    </tr>\n",
       "    <tr>\n",
       "      <th>7628</th>\n",
       "      <td>Kyutai Panic Adventure!</td>\n",
       "      <td>Action, Martial Arts, Shounen, Super Power</td>\n",
       "    </tr>\n",
       "    <tr>\n",
       "      <th>784</th>\n",
       "      <td>Naruto: Shippuuden Movie 6 - Road to Ninja</td>\n",
       "      <td>Action, Adventure, Martial Arts, Shounen, Supe...</td>\n",
       "    </tr>\n",
       "  </tbody>\n",
       "</table>\n",
       "</div>"
      ],
      "text/plain": [
       "                                                   name  \\\n",
       "615                                  Naruto: Shippuuden   \n",
       "841                                              Naruto   \n",
       "1103  Boruto: Naruto the Movie - Naruto ga Hokage ni...   \n",
       "1343                                        Naruto x UT   \n",
       "1472        Naruto: Shippuuden Movie 4 - The Lost Tower   \n",
       "1573  Naruto: Shippuuden Movie 3 - Hi no Ishi wo Tsu...   \n",
       "2458               Naruto Shippuuden: Sunny Side Battle   \n",
       "2997  Naruto Soyokazeden Movie: Naruto to Mashin to ...   \n",
       "7628                            Kyutai Panic Adventure!   \n",
       "784          Naruto: Shippuuden Movie 6 - Road to Ninja   \n",
       "\n",
       "                                                  genre  \n",
       "615   Action, Comedy, Martial Arts, Shounen, Super P...  \n",
       "841   Action, Comedy, Martial Arts, Shounen, Super P...  \n",
       "1103  Action, Comedy, Martial Arts, Shounen, Super P...  \n",
       "1343  Action, Comedy, Martial Arts, Shounen, Super P...  \n",
       "1472  Action, Comedy, Martial Arts, Shounen, Super P...  \n",
       "1573  Action, Comedy, Martial Arts, Shounen, Super P...  \n",
       "2458  Action, Comedy, Martial Arts, Shounen, Super P...  \n",
       "2997  Action, Comedy, Martial Arts, Shounen, Super P...  \n",
       "7628         Action, Martial Arts, Shounen, Super Power  \n",
       "784   Action, Adventure, Martial Arts, Shounen, Supe...  "
      ]
     },
     "metadata": {},
     "output_type": "display_data"
    }
   ],
   "source": [
    "# Get recommendations for 'Naruto'\n",
    "print(\"Recommended animes for 'Naruto':\")\n",
    "display(recommend_anime(\"Naruto\"))\n"
   ]
  },
  {
   "cell_type": "markdown",
   "id": "9d85d37e-b715-4477-bf9e-5e802815c2f7",
   "metadata": {},
   "source": [
    "## Split data into training and testing sets"
   ]
  },
  {
   "cell_type": "code",
   "execution_count": 33,
   "id": "87cb94e9-d478-455e-a32a-b06151d26760",
   "metadata": {},
   "outputs": [],
   "source": [
    "# Split dataset into training (80%) and testing (20%)\n",
    "train, test = train_test_split(df, test_size=0.2, random_state=42)\n"
   ]
  },
  {
   "cell_type": "markdown",
   "id": "22d99f7f-d2fd-4260-a246-84028e4c857a",
   "metadata": {},
   "source": [
    "## Evaluate the recommendation system"
   ]
  },
  {
   "cell_type": "code",
   "execution_count": 36,
   "id": "b4b7af37-17b0-4b9d-9ab3-d8690bcc2fd0",
   "metadata": {},
   "outputs": [
    {
     "name": "stdout",
     "output_type": "stream",
     "text": [
      "\n",
      "Evaluation Metrics:\n",
      "Precision: 0.493322203672788\n",
      "Recall: 0.4820554649265905\n",
      "F1 Score: 0.4876237623762376\n"
     ]
    }
   ],
   "source": [
    "# Generate random binary values to simulate true and predicted labels\n",
    "y_true = np.random.randint(0, 2, len(test))  # Simulated true values\n",
    "y_pred = np.random.randint(0, 2, len(test))  # Simulated predicted values\n",
    "\n",
    "# Print evaluation metrics\n",
    "print(\"\\nEvaluation Metrics:\")\n",
    "print(\"Precision:\", precision_score(y_true, y_pred))\n",
    "print(\"Recall:\", recall_score(y_true, y_pred))\n",
    "print(\"F1 Score:\", f1_score(y_true, y_pred))\n"
   ]
  },
  {
   "cell_type": "code",
   "execution_count": 2,
   "id": "e7b205ec-a8ca-4565-b3d3-ae749dc4ddc2",
   "metadata": {},
   "outputs": [
    {
     "name": "stdout",
     "output_type": "stream",
     "text": [
      "User-Based Collaborative Filtering:\n",
      "- Finds users with similar preferences based on past interactions.\n",
      "- Recommends items liked by similar users.\n",
      "- Example: If two users rate movies similarly, one user's liked movie is recommended to the other.\n",
      "\n",
      "Item-Based Collaborative Filtering:\n",
      "- Finds similarities between items instead of users.\n",
      "- Recommends items similar to what the user has already interacted with.\n",
      "- Example: If a user watches Movie A and Movie B is similar, Movie B is recommended.\n"
     ]
    }
   ],
   "source": [
    "# Q1: Can you explain the difference between user-based and item-based collaborative filtering?\n",
    "\n",
    "print(\"User-Based Collaborative Filtering:\\n\"\n",
    "      \"- Finds users with similar preferences based on past interactions.\\n\"\n",
    "      \"- Recommends items liked by similar users.\\n\"\n",
    "      \"- Example: If two users rate movies similarly, one user's liked movie is recommended to the other.\\n\\n\"\n",
    "      \"Item-Based Collaborative Filtering:\\n\"\n",
    "      \"- Finds similarities between items instead of users.\\n\"\n",
    "      \"- Recommends items similar to what the user has already interacted with.\\n\"\n",
    "      \"- Example: If a user watches Movie A and Movie B is similar, Movie B is recommended.\")\n"
   ]
  },
  {
   "cell_type": "code",
   "execution_count": 4,
   "id": "fb559c43-fd2f-49bc-9fe1-97f8b1695720",
   "metadata": {},
   "outputs": [
    {
     "name": "stdout",
     "output_type": "stream",
     "text": [
      "Collaborative Filtering:\n",
      "- A recommendation technique that suggests items based on user interactions and preferences.\n",
      "- Works by finding patterns from historical user-item interactions.\n",
      "- Used in platforms like Netflix, Amazon, and YouTube.\n",
      "\n",
      "How It Works:\n",
      "1. Collect user-item interaction data (ratings, purchases, clicks).\n",
      "2. Identify similarities between users (user-based) or items (item-based).\n",
      "3. Predict missing ratings using nearest neighbors.\n",
      "4. Recommend items based on calculated similarities.\n"
     ]
    }
   ],
   "source": [
    "# Q2: What is collaborative filtering, and how does it work?\n",
    "\n",
    "print(\"Collaborative Filtering:\\n\"\n",
    "      \"- A recommendation technique that suggests items based on user interactions and preferences.\\n\"\n",
    "      \"- Works by finding patterns from historical user-item interactions.\\n\"\n",
    "      \"- Used in platforms like Netflix, Amazon, and YouTube.\\n\\n\"\n",
    "      \"How It Works:\\n\"\n",
    "      \"1. Collect user-item interaction data (ratings, purchases, clicks).\\n\"\n",
    "      \"2. Identify similarities between users (user-based) or items (item-based).\\n\"\n",
    "      \"3. Predict missing ratings using nearest neighbors.\\n\"\n",
    "      \"4. Recommend items based on calculated similarities.\")\n"
   ]
  },
  {
   "cell_type": "code",
   "execution_count": null,
   "id": "fadcc2d8-aced-4305-a5bc-b6719ebbe429",
   "metadata": {},
   "outputs": [],
   "source": []
  }
 ],
 "metadata": {
  "kernelspec": {
   "display_name": "Python 3 (ipykernel)",
   "language": "python",
   "name": "python3"
  },
  "language_info": {
   "codemirror_mode": {
    "name": "ipython",
    "version": 3
   },
   "file_extension": ".py",
   "mimetype": "text/x-python",
   "name": "python",
   "nbconvert_exporter": "python",
   "pygments_lexer": "ipython3",
   "version": "3.11.7"
  }
 },
 "nbformat": 4,
 "nbformat_minor": 5
}
